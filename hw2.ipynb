{
  "nbformat": 4,
  "nbformat_minor": 0,
  "metadata": {
    "colab": {
      "name": "Untitled5.ipynb",
      "provenance": [],
      "collapsed_sections": [],
      "authorship_tag": "ABX9TyNoCHjv8NzbSMoiUmf6dnre",
      "include_colab_link": true
    },
    "kernelspec": {
      "name": "python3",
      "display_name": "Python 3"
    },
    "language_info": {
      "name": "python"
    }
  },
  "cells": [
    {
      "cell_type": "markdown",
      "metadata": {
        "id": "view-in-github",
        "colab_type": "text"
      },
      "source": [
        "<a href=\"https://colab.research.google.com/github/Noxybot/tt_21/blob/master/hw2.ipynb\" target=\"_parent\"><img src=\"https://colab.research.google.com/assets/colab-badge.svg\" alt=\"Open In Colab\"/></a>"
      ]
    },
    {
      "cell_type": "code",
      "metadata": {
        "id": "6X-7k2xCwOT9"
      },
      "source": [
        "import pandas as pd\n",
        "import random\n",
        "import os\n",
        "import numpy as np\n",
        "from sklearn.cluster import KMeans\n",
        "from sklearn.preprocessing import LabelEncoder\n",
        "from tensorflow.keras.layers import *\n",
        "import tensorflow as tf\n",
        "from tensorflow.keras import *\n",
        "\n",
        "SEED = 228\n",
        "\n",
        "tf.random.set_seed(0)\n",
        "random.seed(0)\n",
        "np.random.seed(0)\n",
        "os.environ['TF_DETERMINISTIC_OPS'] = '1'\n",
        "\n",
        "GEO_CLUSTERS = 300\n",
        "COMPANY_UNITS = 10\n",
        "ACTIVATION_FUN = \"relu\"\n"
      ],
      "execution_count": 202,
      "outputs": []
    },
    {
      "cell_type": "code",
      "metadata": {
        "id": "KXpJCloywSCK"
      },
      "source": [
        "train_data = pd.read_csv(\"train.csv\")\n",
        "train_data = train_data.drop(train_data.columns[0], axis=1)\n",
        "\n",
        "test_data = pd.read_csv(\"test.csv\")\n",
        "test_data = test_data.drop(test_data.columns[0], axis=1)"
      ],
      "execution_count": 205,
      "outputs": []
    },
    {
      "cell_type": "code",
      "metadata": {
        "id": "av7OLnB81c2A"
      },
      "source": [
        "def preprocess (dataframe, kmeans):\n",
        "  dataframe['geo_cluster_label'] = kmeans.predict(dataframe[dataframe.columns[0:2]])\n",
        "  dataframe.loc[dataframe[\"company\"].value_counts()[dataframe[\"company\"]].values <= 10, \"company\"] = -1\n",
        "  dataframe = dataframe.drop('latitude', axis=1)\n",
        "  dataframe = dataframe.drop('longitude', axis=1)\n",
        "  first_X = pd.concat([dataframe[\"is_local\"], dataframe.iloc[:, 3:7]], axis=1).to_numpy()\n",
        "  second_X = LabelEncoder().fit_transform(dataframe[\"company\"].to_numpy())\n",
        "  third_X = dataframe[\"type\"].to_numpy()\n",
        "  fourth_X = dataframe[\"geo_cluster_label\"].to_numpy()\n",
        "\n",
        "  out_Y = dataframe[\"target\"].to_numpy()\n",
        "  return first_X, second_X, third_X, fourth_X, out_Y\n",
        "\n"
      ],
      "execution_count": 197,
      "outputs": []
    },
    {
      "cell_type": "code",
      "metadata": {
        "id": "fBg9777cyqi_"
      },
      "source": [
        "kmeans = KMeans(n_clusters = GEO_CLUSTERS, init ='k-means++')\n",
        "kmeans.fit(train_data[train_data.columns[0:2]])\n",
        "first_X_train, second_X_train, third_X_train, fourth_X_train, out_Y_train = preprocess(train_data, kmeans)\n",
        "first_X_test, second_X_test, third_X_test, fourth_X_test, out_Y_test = preprocess(test_data, kmeans)\n"
      ],
      "execution_count": 206,
      "outputs": []
    },
    {
      "cell_type": "code",
      "metadata": {
        "colab": {
          "base_uri": "https://localhost:8080/"
        },
        "id": "mgx1zyLI6u1h",
        "outputId": "2622d722-b70d-4bf9-ad0b-dcf93ac2fda0"
      },
      "source": [
        "input_first_branch = Input(shape=(5, ), name=\"first\")\n",
        "first = Dense(32, activation=ACTIVATION_FUN)(input_first_branch)\n",
        "first = BatchNormalization()(first)\n",
        "first = Dense(32, activation=ACTIVATION_FUN)(first)\n",
        "first = BatchNormalization()(first)\n",
        "first = Model(inputs=input_first_branch, outputs=first)\n",
        "\n",
        "input_second_branch = Input(shape=(1,), name=\"second\")\n",
        "second = Embedding(second_X_train.max() + 1, output_dim=128)(input_second_branch)\n",
        "second = Flatten()(second)\n",
        "second = Dense(32, activation=ACTIVATION_FUN)(second)\n",
        "second = Model(inputs=input_second_branch, outputs=second)\n",
        "\n",
        "input_third_branch = Input(shape=(1,), name=\"third\")\n",
        "third = Embedding(third_X_train.max() + 1, output_dim=16)(input_third_branch)\n",
        "third = Flatten()(third)\n",
        "third = Dense(16, activation=ACTIVATION_FUN)(third)\n",
        "third = Model(inputs=input_third_branch, outputs=third)\n",
        "\n",
        "\n",
        "input_fourth_branch = Input(shape=(1,), name=\"fourth\")\n",
        "fourth = Embedding(fourth_X_train.max() + 1, output_dim=128)(input_fourth_branch)\n",
        "fourth = Flatten()(fourth)\n",
        "fourth = Dense(32, activation=ACTIVATION_FUN)(fourth)\n",
        "fourth = Model(inputs=input_fourth_branch, outputs=fourth)\n",
        "\n",
        "concat = Concatenate()([first.output, second.output, third.output, fourth.output])\n",
        "\n",
        "concat = Dense(64, activation=ACTIVATION_FUN)(concat)\n",
        "concat = BatchNormalization()(concat)\n",
        "concat = Dense(64, activation=ACTIVATION_FUN)(concat)\n",
        "concat = BatchNormalization()(concat)\n",
        "output = Dense(1, name=\"output\", activation=ACTIVATION_FUN)(concat)\n",
        "\n",
        "my_model = Model(inputs=[first.input, second.input, third.input, fourth.input], outputs=output)\n",
        "my_model.compile(loss='binary_crossentropy', optimizer='adam', metrics=['accuracy'])\n",
        "my_model.fit(epochs=10, batch_size=128, x={\"first\": first_X_train, \"second\": second_X_train, \"third\": third_X_train, \"fourth\": fourth_X_train }, y=out_Y_train)\n"
      ],
      "execution_count": 207,
      "outputs": [
        {
          "output_type": "stream",
          "name": "stdout",
          "text": [
            "Epoch 1/10\n",
            "1251/1251 [==============================] - 11s 7ms/step - loss: 2.1659 - accuracy: 0.7263\n",
            "Epoch 2/10\n",
            "1251/1251 [==============================] - 9s 7ms/step - loss: 1.1323 - accuracy: 0.7125\n",
            "Epoch 3/10\n",
            "1251/1251 [==============================] - 9s 7ms/step - loss: 0.8137 - accuracy: 0.7261\n",
            "Epoch 4/10\n",
            "1251/1251 [==============================] - 9s 7ms/step - loss: 0.6828 - accuracy: 0.7354\n",
            "Epoch 5/10\n",
            "1251/1251 [==============================] - 9s 7ms/step - loss: 0.6239 - accuracy: 0.7548\n",
            "Epoch 6/10\n",
            "1251/1251 [==============================] - 9s 7ms/step - loss: 0.5374 - accuracy: 0.7684\n",
            "Epoch 7/10\n",
            "1251/1251 [==============================] - 9s 7ms/step - loss: 0.5347 - accuracy: 0.7644\n",
            "Epoch 8/10\n",
            "1251/1251 [==============================] - 9s 7ms/step - loss: 0.5011 - accuracy: 0.7706\n",
            "Epoch 9/10\n",
            "1251/1251 [==============================] - 9s 7ms/step - loss: 0.5150 - accuracy: 0.7685\n",
            "Epoch 10/10\n",
            "1251/1251 [==============================] - 9s 7ms/step - loss: 0.6047 - accuracy: 0.7560\n"
          ]
        },
        {
          "output_type": "execute_result",
          "data": {
            "text/plain": [
              "<keras.callbacks.History at 0x7ff30c1a0c10>"
            ]
          },
          "metadata": {},
          "execution_count": 207
        }
      ]
    },
    {
      "cell_type": "code",
      "metadata": {
        "colab": {
          "base_uri": "https://localhost:8080/"
        },
        "id": "CSMCJglMghsD",
        "outputId": "aba4caa6-c35e-49d9-a182-057f4bf163e2"
      },
      "source": [
        "my_model.summary()"
      ],
      "execution_count": 208,
      "outputs": [
        {
          "output_type": "stream",
          "name": "stdout",
          "text": [
            "Model: \"model_199\"\n",
            "__________________________________________________________________________________________________\n",
            " Layer (type)                   Output Shape         Param #     Connected to                     \n",
            "==================================================================================================\n",
            " first (InputLayer)             [(None, 5)]          0           []                               \n",
            "                                                                                                  \n",
            " dense_273 (Dense)              (None, 32)           192         ['first[0][0]']                  \n",
            "                                                                                                  \n",
            " second (InputLayer)            [(None, 1)]          0           []                               \n",
            "                                                                                                  \n",
            " third (InputLayer)             [(None, 1)]          0           []                               \n",
            "                                                                                                  \n",
            " fourth (InputLayer)            [(None, 1)]          0           []                               \n",
            "                                                                                                  \n",
            " batch_normalization_156 (Batch  (None, 32)          128         ['dense_273[0][0]']              \n",
            " Normalization)                                                                                   \n",
            "                                                                                                  \n",
            " embedding_117 (Embedding)      (None, 1, 128)       177280      ['second[0][0]']                 \n",
            "                                                                                                  \n",
            " embedding_118 (Embedding)      (None, 1, 16)        80          ['third[0][0]']                  \n",
            "                                                                                                  \n",
            " embedding_119 (Embedding)      (None, 1, 128)       38400       ['fourth[0][0]']                 \n",
            "                                                                                                  \n",
            " dense_274 (Dense)              (None, 32)           1056        ['batch_normalization_156[0][0]']\n",
            "                                                                                                  \n",
            " flatten_117 (Flatten)          (None, 128)          0           ['embedding_117[0][0]']          \n",
            "                                                                                                  \n",
            " flatten_118 (Flatten)          (None, 16)           0           ['embedding_118[0][0]']          \n",
            "                                                                                                  \n",
            " flatten_119 (Flatten)          (None, 128)          0           ['embedding_119[0][0]']          \n",
            "                                                                                                  \n",
            " batch_normalization_157 (Batch  (None, 32)          128         ['dense_274[0][0]']              \n",
            " Normalization)                                                                                   \n",
            "                                                                                                  \n",
            " dense_275 (Dense)              (None, 32)           4128        ['flatten_117[0][0]']            \n",
            "                                                                                                  \n",
            " dense_276 (Dense)              (None, 16)           272         ['flatten_118[0][0]']            \n",
            "                                                                                                  \n",
            " dense_277 (Dense)              (None, 32)           4128        ['flatten_119[0][0]']            \n",
            "                                                                                                  \n",
            " concatenate_39 (Concatenate)   (None, 112)          0           ['batch_normalization_157[0][0]',\n",
            "                                                                  'dense_275[0][0]',              \n",
            "                                                                  'dense_276[0][0]',              \n",
            "                                                                  'dense_277[0][0]']              \n",
            "                                                                                                  \n",
            " dense_278 (Dense)              (None, 64)           7232        ['concatenate_39[0][0]']         \n",
            "                                                                                                  \n",
            " batch_normalization_158 (Batch  (None, 64)          256         ['dense_278[0][0]']              \n",
            " Normalization)                                                                                   \n",
            "                                                                                                  \n",
            " dense_279 (Dense)              (None, 64)           4160        ['batch_normalization_158[0][0]']\n",
            "                                                                                                  \n",
            " batch_normalization_159 (Batch  (None, 64)          256         ['dense_279[0][0]']              \n",
            " Normalization)                                                                                   \n",
            "                                                                                                  \n",
            " output (Dense)                 (None, 1)            65          ['batch_normalization_159[0][0]']\n",
            "                                                                                                  \n",
            "==================================================================================================\n",
            "Total params: 237,761\n",
            "Trainable params: 237,377\n",
            "Non-trainable params: 384\n",
            "__________________________________________________________________________________________________\n"
          ]
        }
      ]
    },
    {
      "cell_type": "code",
      "metadata": {
        "colab": {
          "base_uri": "https://localhost:8080/"
        },
        "id": "a8cfUABc0uGI",
        "outputId": "b19e658b-c2ae-42d4-fe85-0110cdb9f314"
      },
      "source": [
        "my_model.evaluate(x={\"first\": first_X_test, \"second\": second_X_test, \"third\": third_X_test, \"fourth\": fourth_X_test }, y=out_Y_test)\n"
      ],
      "execution_count": 209,
      "outputs": [
        {
          "output_type": "stream",
          "name": "stdout",
          "text": [
            "1250/1250 [==============================] - 3s 2ms/step - loss: 0.4920 - accuracy: 0.7667\n"
          ]
        },
        {
          "output_type": "execute_result",
          "data": {
            "text/plain": [
              "[0.49202656745910645, 0.7666749954223633]"
            ]
          },
          "metadata": {},
          "execution_count": 209
        }
      ]
    }
  ]
}