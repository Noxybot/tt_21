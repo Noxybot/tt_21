{
  "nbformat": 4,
  "nbformat_minor": 0,
  "metadata": {
    "colab": {
      "name": "Untitled5.ipynb",
      "provenance": [],
      "collapsed_sections": [],
      "authorship_tag": "ABX9TyNwO9Z5vciQOn+aixH7Ypau",
      "include_colab_link": true
    },
    "kernelspec": {
      "name": "python3",
      "display_name": "Python 3"
    },
    "language_info": {
      "name": "python"
    }
  },
  "cells": [
    {
      "cell_type": "markdown",
      "metadata": {
        "id": "view-in-github",
        "colab_type": "text"
      },
      "source": [
        "<a href=\"https://colab.research.google.com/github/Noxybot/tt_21/blob/master/hw2.ipynb\" target=\"_parent\"><img src=\"https://colab.research.google.com/assets/colab-badge.svg\" alt=\"Open In Colab\"/></a>"
      ]
    },
    {
      "cell_type": "code",
      "metadata": {
        "id": "6X-7k2xCwOT9"
      },
      "source": [
        "import pandas as pd\n",
        "import random\n",
        "import os\n",
        "import numpy as np\n",
        "from sklearn.cluster import KMeans\n",
        "from sklearn.preprocessing import LabelEncoder\n",
        "from tensorflow.keras.layers import *\n",
        "import tensorflow as tf\n",
        "from tensorflow.keras import *\n",
        "\n",
        "SEED = 228\n",
        "\n",
        "tf.random.set_seed(0)\n",
        "random.seed(0)\n",
        "np.random.seed(0)\n",
        "os.environ['TF_DETERMINISTIC_OPS'] = '1'\n",
        "\n",
        "GEO_CLUSTERS = 300\n",
        "COMPANY_UNITS = 10\n"
      ],
      "execution_count": 97,
      "outputs": []
    },
    {
      "cell_type": "code",
      "metadata": {
        "id": "KXpJCloywSCK"
      },
      "source": [
        "train_data = pd.read_csv(\"train.csv\")\n",
        "test_data = pd.read_csv(\"test.csv\")"
      ],
      "execution_count": 138,
      "outputs": []
    },
    {
      "cell_type": "code",
      "metadata": {
        "id": "av7OLnB81c2A"
      },
      "source": [
        "def preprocess (dataframe):\n",
        "  kmeans = KMeans(n_clusters = GEO_CLUSTERS, init ='k-means++')\n",
        "  kmeans.fit(dataframe[dataframe.columns[0:2]])\n",
        "  dataframe['geo_cluster_label'] = kmeans.fit_predict(dataframe[dataframe.columns[0:2]])\n",
        "  dataframe.loc[dataframe[\"company\"].value_counts()[dataframe[\"company\"]].values < 10, \"company\"] = -1\n",
        "  dataframe = dataframe.drop('latitude', axis=1)\n",
        "  dataframe = dataframe.drop('longitude', axis=1)\n",
        "  first_X = pd.concat([train_data[\"is_local\"], train_data.iloc[:, 3:7]], axis=1).to_numpy()\n",
        "  second_X = le.fit_transform(train_data[\"company\"].to_numpy())\n",
        "  third_X = train_data[\"type\"].to_numpy()\n",
        "  fourth_X = train_data[\"geo_cluster_label\"].to_numpy()\n",
        "\n",
        "  out_Y = train_data[\"target\"].to_numpy()\n",
        "  return first_X, second_X, third_X, fourth_X, out_Y\n",
        "\n"
      ],
      "execution_count": 130,
      "outputs": []
    },
    {
      "cell_type": "code",
      "metadata": {
        "colab": {
          "base_uri": "https://localhost:8080/"
        },
        "id": "fBg9777cyqi_",
        "outputId": "0f1a579a-0224-4c47-e669-9936620b9f41"
      },
      "source": [
        "train_data = train_data.drop(train_data.columns[0], axis=1)\n",
        "first_X_train, second_X_train, third_X_train, fourth_X_train, out_Y_train = preprocess(train_data)\n",
        "first_X_test, second_X_test, third_X_test, fourth_X_test, out_Y_test = preprocess(test_data)\n",
        "#print(train_data.company.value_counts())\n",
        "#train_data\n",
        "first_X_test"
      ],
      "execution_count": 139,
      "outputs": [
        {
          "output_type": "execute_result",
          "data": {
            "text/plain": [
              "array([[ 0.00000000e+00,  0.00000000e+00,  3.00000000e+00,\n",
              "        -1.35060089e+05,  8.60133965e+04],\n",
              "       [ 1.00000000e+00,  1.00000000e+00,  0.00000000e+00,\n",
              "        -1.76684506e+03,  1.49856402e+04],\n",
              "       [ 0.00000000e+00,  0.00000000e+00,  3.00000000e+00,\n",
              "        -1.77302874e+05,  4.48819580e+04],\n",
              "       ...,\n",
              "       [ 1.00000000e+00,  1.00000000e+00,  1.00000000e+00,\n",
              "         1.01012487e+05,  0.00000000e+00],\n",
              "       [ 0.00000000e+00,  0.00000000e+00,  1.00000000e+00,\n",
              "         6.46164703e+03,  0.00000000e+00],\n",
              "       [ 1.00000000e+00,  1.00000000e+00,  1.00000000e+00,\n",
              "         1.13033390e+05,  0.00000000e+00]])"
            ]
          },
          "metadata": {},
          "execution_count": 139
        }
      ]
    },
    {
      "cell_type": "code",
      "metadata": {
        "colab": {
          "base_uri": "https://localhost:8080/"
        },
        "id": "jfRHoTGWcSVY",
        "outputId": "e514bc95-672f-4923-a232-afdb6b85764c"
      },
      "source": [
        "second_X_train.max()"
      ],
      "execution_count": 140,
      "outputs": [
        {
          "output_type": "execute_result",
          "data": {
            "text/plain": [
              "1483"
            ]
          },
          "metadata": {},
          "execution_count": 140
        }
      ]
    },
    {
      "cell_type": "code",
      "metadata": {
        "colab": {
          "base_uri": "https://localhost:8080/"
        },
        "id": "mgx1zyLI6u1h",
        "outputId": "240653a2-657d-4f0b-bcab-ee003c9a8424"
      },
      "source": [
        "input_first_branch = Input(shape=(5, ), name=\"first\")\n",
        "first = Dense(32,)(input_first_branch)\n",
        "first = BatchNormalization()(first)\n",
        "first = Dense(32,)(first)\n",
        "first = BatchNormalization()(first)\n",
        "first = Model(inputs=input_first_branch, outputs=first)\n",
        "\n",
        "input_second_branch = Input(shape=(1,), name=\"second\")\n",
        "second = Embedding(second_X_train.max() + 1, output_dim=128)(input_second_branch)\n",
        "second = Flatten()(second)\n",
        "second = Dense(32,)(second)\n",
        "second = Model(inputs=input_second_branch, outputs=second)\n",
        "\n",
        "input_third_branch = Input(shape=(1,), name=\"third\")\n",
        "third = Embedding(third_X_train.max() + 1, output_dim=16)(input_third_branch)\n",
        "third = Flatten()(third)\n",
        "third = Dense(16,)(third)\n",
        "third = Model(inputs=input_third_branch, outputs=third)\n",
        "\n",
        "\n",
        "input_fourth_branch = Input(shape=(1,), name=\"fourth\")\n",
        "fourth = Embedding(fourth_X_train.max() + 1, output_dim=128)(input_fourth_branch)\n",
        "fourth = Flatten()(fourth)\n",
        "fourth = Dense(32,)(fourth)\n",
        "fourth = Model(inputs=input_fourth_branch, outputs=fourth)\n",
        "\n",
        "concat = Concatenate()([first.output, second.output, third.output, fourth.output])\n",
        "\n",
        "concat = Dense(64,)(concat)\n",
        "concat = BatchNormalization()(concat)\n",
        "concat = Dense(64,)(concat)\n",
        "concat = BatchNormalization()(concat)\n",
        "output = Dense(1, name=\"output\")(concat)\n",
        "\n",
        "my_model = Model(inputs=[first.input, second.input, third.input, fourth.input], outputs=output)\n",
        "my_model.compile(loss='binary_crossentropy', optimizer='adam', metrics=['accuracy'])\n",
        "my_model.fit(epochs=10, batch_size=128, x={\"first\": first_X_train, \"second\": second_X_train, \"third\": third_X_train, \"fourth\": fourth_X_train }, y=out_Y_train)\n"
      ],
      "execution_count": 141,
      "outputs": [
        {
          "output_type": "stream",
          "name": "stdout",
          "text": [
            "Epoch 1/10\n",
            "1251/1251 [==============================] - 12s 8ms/step - loss: 1.4043 - accuracy: 0.7182\n",
            "Epoch 2/10\n",
            "1251/1251 [==============================] - 11s 9ms/step - loss: 0.8029 - accuracy: 0.7139\n",
            "Epoch 3/10\n",
            "1251/1251 [==============================] - 11s 9ms/step - loss: 0.6085 - accuracy: 0.7230\n",
            "Epoch 4/10\n",
            "1251/1251 [==============================] - 11s 9ms/step - loss: 0.5391 - accuracy: 0.7358\n",
            "Epoch 5/10\n",
            "1251/1251 [==============================] - 11s 9ms/step - loss: 0.5658 - accuracy: 0.7231\n",
            "Epoch 6/10\n",
            "1251/1251 [==============================] - 11s 9ms/step - loss: 0.8024 - accuracy: 0.7122\n",
            "Epoch 7/10\n",
            "1251/1251 [==============================] - 11s 9ms/step - loss: 0.7514 - accuracy: 0.7236\n",
            "Epoch 8/10\n",
            "1251/1251 [==============================] - 11s 9ms/step - loss: 0.5619 - accuracy: 0.7289\n",
            "Epoch 9/10\n",
            "1251/1251 [==============================] - 11s 9ms/step - loss: 0.5552 - accuracy: 0.7146\n",
            "Epoch 10/10\n",
            "1251/1251 [==============================] - 11s 9ms/step - loss: 0.5892 - accuracy: 0.7210\n"
          ]
        },
        {
          "output_type": "execute_result",
          "data": {
            "text/plain": [
              "<keras.callbacks.History at 0x7ff2f13d6410>"
            ]
          },
          "metadata": {},
          "execution_count": 141
        }
      ]
    },
    {
      "cell_type": "code",
      "metadata": {
        "colab": {
          "base_uri": "https://localhost:8080/"
        },
        "id": "a8cfUABc0uGI",
        "outputId": "aefc13b0-fd69-46fa-d248-7d5d3f0d85b8"
      },
      "source": [
        "my_model.evaluate(x={\"first\": first_X_test, \"second\": second_X_test, \"third\": third_X_test, \"fourth\": fourth_X_test }, y=out_Y_test)\n"
      ],
      "execution_count": 142,
      "outputs": [
        {
          "output_type": "stream",
          "name": "stdout",
          "text": [
            "5001/5001 [==============================] - 10s 2ms/step - loss: 0.5320 - accuracy: 0.7378\n"
          ]
        },
        {
          "output_type": "execute_result",
          "data": {
            "text/plain": [
              "[0.5319505333900452, 0.7377891540527344]"
            ]
          },
          "metadata": {},
          "execution_count": 142
        }
      ]
    }
  ]
}