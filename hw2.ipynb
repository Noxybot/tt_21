{
  "nbformat": 4,
  "nbformat_minor": 0,
  "metadata": {
    "colab": {
      "name": "Untitled5.ipynb",
      "provenance": [],
      "collapsed_sections": [],
      "authorship_tag": "ABX9TyObl5zfDdiu7Dz0ZB55mYkP",
      "include_colab_link": true
    },
    "kernelspec": {
      "name": "python3",
      "display_name": "Python 3"
    },
    "language_info": {
      "name": "python"
    }
  },
  "cells": [
    {
      "cell_type": "markdown",
      "metadata": {
        "id": "view-in-github",
        "colab_type": "text"
      },
      "source": [
        "<a href=\"https://colab.research.google.com/github/Noxybot/tt_21/blob/master/hw2.ipynb\" target=\"_parent\"><img src=\"https://colab.research.google.com/assets/colab-badge.svg\" alt=\"Open In Colab\"/></a>"
      ]
    },
    {
      "cell_type": "code",
      "metadata": {
        "id": "6X-7k2xCwOT9"
      },
      "source": [
        "import pandas as pd\n",
        "import random\n",
        "import os\n",
        "import numpy as np\n",
        "from sklearn.cluster import KMeans\n",
        "from sklearn.preprocessing import LabelEncoder\n",
        "from tensorflow.keras.layers import *\n",
        "import tensorflow as tf\n",
        "from tensorflow.keras import *\n",
        "from tensorflow.keras.optimizers import *\n",
        "\n",
        "SEED = 228\n",
        "\n",
        "tf.random.set_seed(0)\n",
        "random.seed(0)\n",
        "np.random.seed(0)\n",
        "os.environ['TF_DETERMINISTIC_OPS'] = '1'\n",
        "\n",
        "GEO_CLUSTERS = 300\n",
        "COMPANY_UNITS = 10\n",
        "ACTIVATION_FUN = \"relu\"\n"
      ],
      "execution_count": 294,
      "outputs": []
    },
    {
      "cell_type": "code",
      "metadata": {
        "colab": {
          "base_uri": "https://localhost:8080/",
          "height": 419
        },
        "id": "KXpJCloywSCK",
        "outputId": "2acbbaf9-650b-48ea-d1ad-e84e371c5301"
      },
      "source": [
        "train_data = pd.read_csv(\"train.csv\")\n",
        "train_data = train_data.drop(train_data.columns[0], axis=1)\n",
        "\n",
        "vc = train_data[\"company\"].value_counts()\n",
        "to_remove = vc[vc <= 10].index\n",
        "\n",
        "train_data.loc[train_data.company.isin(to_remove), \"company\"] = -1\n",
        "\n",
        "test_data = pd.read_csv(\"test.csv\")\n",
        "test_data = test_data.drop(test_data.columns[0], axis=1)\n",
        "test_data.loc[test_data.company.isin(to_remove), \"company\"] = -1\n",
        "test_data.loc[~test_data.company.isin(train_data.company), \"company\"] = -1\n",
        "test_data"
      ],
      "execution_count": 246,
      "outputs": [
        {
          "output_type": "execute_result",
          "data": {
            "text/html": [
              "<div>\n",
              "<style scoped>\n",
              "    .dataframe tbody tr th:only-of-type {\n",
              "        vertical-align: middle;\n",
              "    }\n",
              "\n",
              "    .dataframe tbody tr th {\n",
              "        vertical-align: top;\n",
              "    }\n",
              "\n",
              "    .dataframe thead th {\n",
              "        text-align: right;\n",
              "    }\n",
              "</style>\n",
              "<table border=\"1\" class=\"dataframe\">\n",
              "  <thead>\n",
              "    <tr style=\"text-align: right;\">\n",
              "      <th></th>\n",
              "      <th>latitude</th>\n",
              "      <th>longitude</th>\n",
              "      <th>company</th>\n",
              "      <th>is_local</th>\n",
              "      <th>type</th>\n",
              "      <th>fin_1</th>\n",
              "      <th>fin_2</th>\n",
              "      <th>fin_3</th>\n",
              "      <th>fin_4</th>\n",
              "      <th>target</th>\n",
              "    </tr>\n",
              "  </thead>\n",
              "  <tbody>\n",
              "    <tr>\n",
              "      <th>0</th>\n",
              "      <td>39.284310</td>\n",
              "      <td>-76.735350</td>\n",
              "      <td>-1</td>\n",
              "      <td>1</td>\n",
              "      <td>1</td>\n",
              "      <td>113033.389907</td>\n",
              "      <td>0.000000</td>\n",
              "      <td>270.906219</td>\n",
              "      <td>31222.780176</td>\n",
              "      <td>0</td>\n",
              "    </tr>\n",
              "    <tr>\n",
              "      <th>1</th>\n",
              "      <td>36.758509</td>\n",
              "      <td>-76.344861</td>\n",
              "      <td>11208</td>\n",
              "      <td>0</td>\n",
              "      <td>0</td>\n",
              "      <td>-87239.590275</td>\n",
              "      <td>73759.387510</td>\n",
              "      <td>759.194862</td>\n",
              "      <td>237587.544996</td>\n",
              "      <td>1</td>\n",
              "    </tr>\n",
              "    <tr>\n",
              "      <th>2</th>\n",
              "      <td>43.402802</td>\n",
              "      <td>-75.217100</td>\n",
              "      <td>-1</td>\n",
              "      <td>1</td>\n",
              "      <td>4</td>\n",
              "      <td>-122084.498620</td>\n",
              "      <td>15528.109943</td>\n",
              "      <td>1039.655934</td>\n",
              "      <td>29612.346982</td>\n",
              "      <td>0</td>\n",
              "    </tr>\n",
              "    <tr>\n",
              "      <th>3</th>\n",
              "      <td>41.871160</td>\n",
              "      <td>-87.848570</td>\n",
              "      <td>-1</td>\n",
              "      <td>0</td>\n",
              "      <td>1</td>\n",
              "      <td>87355.127256</td>\n",
              "      <td>0.000000</td>\n",
              "      <td>214.594205</td>\n",
              "      <td>163526.475818</td>\n",
              "      <td>1</td>\n",
              "    </tr>\n",
              "    <tr>\n",
              "      <th>4</th>\n",
              "      <td>42.161296</td>\n",
              "      <td>-88.129184</td>\n",
              "      <td>11515</td>\n",
              "      <td>0</td>\n",
              "      <td>3</td>\n",
              "      <td>33014.437946</td>\n",
              "      <td>0.000000</td>\n",
              "      <td>379.819724</td>\n",
              "      <td>67499.397999</td>\n",
              "      <td>1</td>\n",
              "    </tr>\n",
              "    <tr>\n",
              "      <th>...</th>\n",
              "      <td>...</td>\n",
              "      <td>...</td>\n",
              "      <td>...</td>\n",
              "      <td>...</td>\n",
              "      <td>...</td>\n",
              "      <td>...</td>\n",
              "      <td>...</td>\n",
              "      <td>...</td>\n",
              "      <td>...</td>\n",
              "      <td>...</td>\n",
              "    </tr>\n",
              "    <tr>\n",
              "      <th>39995</th>\n",
              "      <td>35.241600</td>\n",
              "      <td>-80.983740</td>\n",
              "      <td>-1</td>\n",
              "      <td>0</td>\n",
              "      <td>3</td>\n",
              "      <td>194648.093228</td>\n",
              "      <td>0.000000</td>\n",
              "      <td>95.701485</td>\n",
              "      <td>37584.380280</td>\n",
              "      <td>1</td>\n",
              "    </tr>\n",
              "    <tr>\n",
              "      <th>39996</th>\n",
              "      <td>35.241730</td>\n",
              "      <td>-80.983750</td>\n",
              "      <td>11849</td>\n",
              "      <td>0</td>\n",
              "      <td>3</td>\n",
              "      <td>-53202.007008</td>\n",
              "      <td>9641.082811</td>\n",
              "      <td>653.516413</td>\n",
              "      <td>189604.463353</td>\n",
              "      <td>0</td>\n",
              "    </tr>\n",
              "    <tr>\n",
              "      <th>39997</th>\n",
              "      <td>35.290596</td>\n",
              "      <td>-80.756953</td>\n",
              "      <td>3987</td>\n",
              "      <td>0</td>\n",
              "      <td>3</td>\n",
              "      <td>-102398.568309</td>\n",
              "      <td>47105.929570</td>\n",
              "      <td>863.135873</td>\n",
              "      <td>26231.880089</td>\n",
              "      <td>0</td>\n",
              "    </tr>\n",
              "    <tr>\n",
              "      <th>39998</th>\n",
              "      <td>35.204460</td>\n",
              "      <td>-80.720190</td>\n",
              "      <td>12287</td>\n",
              "      <td>0</td>\n",
              "      <td>0</td>\n",
              "      <td>32066.188506</td>\n",
              "      <td>6659.705140</td>\n",
              "      <td>363.861756</td>\n",
              "      <td>116288.412218</td>\n",
              "      <td>1</td>\n",
              "    </tr>\n",
              "    <tr>\n",
              "      <th>39999</th>\n",
              "      <td>35.222470</td>\n",
              "      <td>-80.847460</td>\n",
              "      <td>7</td>\n",
              "      <td>0</td>\n",
              "      <td>3</td>\n",
              "      <td>35049.846910</td>\n",
              "      <td>0.000000</td>\n",
              "      <td>394.187736</td>\n",
              "      <td>18465.764838</td>\n",
              "      <td>1</td>\n",
              "    </tr>\n",
              "  </tbody>\n",
              "</table>\n",
              "<p>40000 rows × 10 columns</p>\n",
              "</div>"
            ],
            "text/plain": [
              "        latitude  longitude  company  ...        fin_3          fin_4  target\n",
              "0      39.284310 -76.735350       -1  ...   270.906219   31222.780176       0\n",
              "1      36.758509 -76.344861    11208  ...   759.194862  237587.544996       1\n",
              "2      43.402802 -75.217100       -1  ...  1039.655934   29612.346982       0\n",
              "3      41.871160 -87.848570       -1  ...   214.594205  163526.475818       1\n",
              "4      42.161296 -88.129184    11515  ...   379.819724   67499.397999       1\n",
              "...          ...        ...      ...  ...          ...            ...     ...\n",
              "39995  35.241600 -80.983740       -1  ...    95.701485   37584.380280       1\n",
              "39996  35.241730 -80.983750    11849  ...   653.516413  189604.463353       0\n",
              "39997  35.290596 -80.756953     3987  ...   863.135873   26231.880089       0\n",
              "39998  35.204460 -80.720190    12287  ...   363.861756  116288.412218       1\n",
              "39999  35.222470 -80.847460        7  ...   394.187736   18465.764838       1\n",
              "\n",
              "[40000 rows x 10 columns]"
            ]
          },
          "metadata": {},
          "execution_count": 246
        }
      ]
    },
    {
      "cell_type": "code",
      "metadata": {
        "id": "av7OLnB81c2A"
      },
      "source": [
        "def preprocess (dataframe, geo_label, company_label):\n",
        "  dataframe['geo_cluster_label'] = geo_label.predict(dataframe[dataframe.columns[0:2]])\n",
        "  dataframe = dataframe.drop('latitude', axis=1)\n",
        "  dataframe = dataframe.drop('longitude', axis=1)\n",
        "  first_X = pd.concat([dataframe[\"is_local\"], dataframe.iloc[:, 3:7]], axis=1).to_numpy()\n",
        "  second_X = company_label.transform(dataframe[\"company\"].to_numpy())\n",
        "  third_X = dataframe[\"type\"].to_numpy()\n",
        "  fourth_X = dataframe[\"geo_cluster_label\"].to_numpy()\n",
        "\n",
        "  out_Y = dataframe[\"target\"].to_numpy()\n",
        "  return first_X, second_X, third_X, fourth_X, out_Y\n",
        "\n"
      ],
      "execution_count": 247,
      "outputs": []
    },
    {
      "cell_type": "code",
      "metadata": {
        "id": "fBg9777cyqi_"
      },
      "source": [
        "kmeans = KMeans(n_clusters = GEO_CLUSTERS, init ='k-means++')\n",
        "le = LabelEncoder()\n",
        "\n",
        "kmeans.fit(train_data[train_data.columns[0:2]])\n",
        "le.fit(train_data[\"company\"].to_numpy())\n",
        "\n",
        "first_X_train, second_X_train, third_X_train, fourth_X_train, out_Y_train = preprocess(train_data, kmeans, le)\n",
        "first_X_test, second_X_test, third_X_test, fourth_X_test, out_Y_test = preprocess(test_data, kmeans, le)\n"
      ],
      "execution_count": 248,
      "outputs": []
    },
    {
      "cell_type": "code",
      "metadata": {
        "colab": {
          "base_uri": "https://localhost:8080/"
        },
        "id": "mgx1zyLI6u1h",
        "outputId": "66424731-940d-4c06-f3ae-8be2fcbfa573"
      },
      "source": [
        "input_first_branch = Input(shape=(5, ), name=\"first\")\n",
        "first = Dense(32, activation=ACTIVATION_FUN)(input_first_branch)\n",
        "first = BatchNormalization()(first)\n",
        "first = Dense(32, activation=ACTIVATION_FUN)(first)\n",
        "first = BatchNormalization()(first)\n",
        "first = Model(inputs=input_first_branch, outputs=first)\n",
        "\n",
        "input_second_branch = Input(shape=(1,), name=\"second\")\n",
        "second = Embedding(second_X_train.max() + 1, output_dim=128)(input_second_branch)\n",
        "second = Flatten()(second)\n",
        "second = Dense(32, activation=ACTIVATION_FUN)(second)\n",
        "second = Model(inputs=input_second_branch, outputs=second)\n",
        "\n",
        "input_third_branch = Input(shape=(1,), name=\"third\")\n",
        "third = Embedding(third_X_train.max() + 1, output_dim=16)(input_third_branch)\n",
        "third = Flatten()(third)\n",
        "third = Dense(16, activation=ACTIVATION_FUN)(third)\n",
        "third = Model(inputs=input_third_branch, outputs=third)\n",
        "\n",
        "\n",
        "input_fourth_branch = Input(shape=(1,), name=\"fourth\")\n",
        "fourth = Embedding(fourth_X_train.max() + 1, output_dim=128)(input_fourth_branch)\n",
        "fourth = Flatten()(fourth)\n",
        "fourth = Dense(32, activation=ACTIVATION_FUN)(fourth)\n",
        "fourth = Model(inputs=input_fourth_branch, outputs=fourth)\n",
        "\n",
        "concat = Concatenate()([first.output, second.output, third.output, fourth.output])\n",
        "\n",
        "concat = Dense(64, activation=ACTIVATION_FUN)(concat)\n",
        "concat = BatchNormalization()(concat)\n",
        "concat = Dense(64, activation=ACTIVATION_FUN)(concat)\n",
        "concat = BatchNormalization()(concat)\n",
        "output = Dense(1, name=\"output\", activation='sigmoid')(concat)\n",
        "\n",
        "my_model = Model(inputs=[first.input, second.input, third.input, fourth.input], outputs=output)\n",
        "opt = Adam(learning_rate=0.01)\n",
        "my_model.compile(loss='binary_crossentropy', optimizer=opt, metrics=['accuracy'])\n",
        "my_model.fit(epochs=10, batch_size=128, shuffle=True, validation_split=0.1, x={\"first\": first_X_train, \"second\": second_X_train, \"third\": third_X_train, \"fourth\": fourth_X_train }, y=out_Y_train)\n"
      ],
      "execution_count": 295,
      "outputs": [
        {
          "output_type": "stream",
          "name": "stdout",
          "text": [
            "Epoch 1/10\n",
            "1125/1125 [==============================] - 12s 9ms/step - loss: 0.4468 - accuracy: 0.7682 - val_loss: 0.4417 - val_accuracy: 0.7698\n",
            "Epoch 2/10\n",
            "1125/1125 [==============================] - 10s 9ms/step - loss: 0.4380 - accuracy: 0.7703 - val_loss: 0.4406 - val_accuracy: 0.7733\n",
            "Epoch 3/10\n",
            "1125/1125 [==============================] - 9s 8ms/step - loss: 0.4343 - accuracy: 0.7707 - val_loss: 0.4411 - val_accuracy: 0.7673\n",
            "Epoch 4/10\n",
            "1125/1125 [==============================] - 10s 9ms/step - loss: 0.4317 - accuracy: 0.7712 - val_loss: 0.4516 - val_accuracy: 0.7677\n",
            "Epoch 5/10\n",
            "1125/1125 [==============================] - 9s 8ms/step - loss: 0.4295 - accuracy: 0.7746 - val_loss: 0.4409 - val_accuracy: 0.7701\n",
            "Epoch 6/10\n",
            "1125/1125 [==============================] - 9s 8ms/step - loss: 0.4268 - accuracy: 0.7747 - val_loss: 0.4438 - val_accuracy: 0.7641\n",
            "Epoch 7/10\n",
            "1125/1125 [==============================] - 9s 8ms/step - loss: 0.4255 - accuracy: 0.7744 - val_loss: 0.4463 - val_accuracy: 0.7688\n",
            "Epoch 8/10\n",
            "1125/1125 [==============================] - 9s 8ms/step - loss: 0.4223 - accuracy: 0.7770 - val_loss: 0.4411 - val_accuracy: 0.7698\n",
            "Epoch 9/10\n",
            "1125/1125 [==============================] - 9s 8ms/step - loss: 0.4211 - accuracy: 0.7786 - val_loss: 0.4471 - val_accuracy: 0.7660\n",
            "Epoch 10/10\n",
            "1125/1125 [==============================] - 9s 8ms/step - loss: 0.4189 - accuracy: 0.7800 - val_loss: 0.4467 - val_accuracy: 0.7682\n"
          ]
        },
        {
          "output_type": "execute_result",
          "data": {
            "text/plain": [
              "<keras.callbacks.History at 0x7ff2fece2410>"
            ]
          },
          "metadata": {},
          "execution_count": 295
        }
      ]
    },
    {
      "cell_type": "code",
      "metadata": {
        "colab": {
          "base_uri": "https://localhost:8080/"
        },
        "id": "CSMCJglMghsD",
        "outputId": "85426921-1d53-41c8-bd0f-f175d7d85c1e"
      },
      "source": [
        "my_model.summary()"
      ],
      "execution_count": 296,
      "outputs": [
        {
          "output_type": "stream",
          "name": "stdout",
          "text": [
            "Model: \"model_279\"\n",
            "__________________________________________________________________________________________________\n",
            " Layer (type)                   Output Shape         Param #     Connected to                     \n",
            "==================================================================================================\n",
            " first (InputLayer)             [(None, 5)]          0           []                               \n",
            "                                                                                                  \n",
            " dense_385 (Dense)              (None, 32)           192         ['first[0][0]']                  \n",
            "                                                                                                  \n",
            " second (InputLayer)            [(None, 1)]          0           []                               \n",
            "                                                                                                  \n",
            " third (InputLayer)             [(None, 1)]          0           []                               \n",
            "                                                                                                  \n",
            " fourth (InputLayer)            [(None, 1)]          0           []                               \n",
            "                                                                                                  \n",
            " batch_normalization_220 (Batch  (None, 32)          128         ['dense_385[0][0]']              \n",
            " Normalization)                                                                                   \n",
            "                                                                                                  \n",
            " embedding_165 (Embedding)      (None, 1, 128)       177280      ['second[0][0]']                 \n",
            "                                                                                                  \n",
            " embedding_166 (Embedding)      (None, 1, 16)        80          ['third[0][0]']                  \n",
            "                                                                                                  \n",
            " embedding_167 (Embedding)      (None, 1, 128)       38400       ['fourth[0][0]']                 \n",
            "                                                                                                  \n",
            " dense_386 (Dense)              (None, 32)           1056        ['batch_normalization_220[0][0]']\n",
            "                                                                                                  \n",
            " flatten_165 (Flatten)          (None, 128)          0           ['embedding_165[0][0]']          \n",
            "                                                                                                  \n",
            " flatten_166 (Flatten)          (None, 16)           0           ['embedding_166[0][0]']          \n",
            "                                                                                                  \n",
            " flatten_167 (Flatten)          (None, 128)          0           ['embedding_167[0][0]']          \n",
            "                                                                                                  \n",
            " batch_normalization_221 (Batch  (None, 32)          128         ['dense_386[0][0]']              \n",
            " Normalization)                                                                                   \n",
            "                                                                                                  \n",
            " dense_387 (Dense)              (None, 32)           4128        ['flatten_165[0][0]']            \n",
            "                                                                                                  \n",
            " dense_388 (Dense)              (None, 16)           272         ['flatten_166[0][0]']            \n",
            "                                                                                                  \n",
            " dense_389 (Dense)              (None, 32)           4128        ['flatten_167[0][0]']            \n",
            "                                                                                                  \n",
            " concatenate_55 (Concatenate)   (None, 112)          0           ['batch_normalization_221[0][0]',\n",
            "                                                                  'dense_387[0][0]',              \n",
            "                                                                  'dense_388[0][0]',              \n",
            "                                                                  'dense_389[0][0]']              \n",
            "                                                                                                  \n",
            " dense_390 (Dense)              (None, 64)           7232        ['concatenate_55[0][0]']         \n",
            "                                                                                                  \n",
            " batch_normalization_222 (Batch  (None, 64)          256         ['dense_390[0][0]']              \n",
            " Normalization)                                                                                   \n",
            "                                                                                                  \n",
            " dense_391 (Dense)              (None, 64)           4160        ['batch_normalization_222[0][0]']\n",
            "                                                                                                  \n",
            " batch_normalization_223 (Batch  (None, 64)          256         ['dense_391[0][0]']              \n",
            " Normalization)                                                                                   \n",
            "                                                                                                  \n",
            " output (Dense)                 (None, 1)            65          ['batch_normalization_223[0][0]']\n",
            "                                                                                                  \n",
            "==================================================================================================\n",
            "Total params: 237,761\n",
            "Trainable params: 237,377\n",
            "Non-trainable params: 384\n",
            "__________________________________________________________________________________________________\n"
          ]
        }
      ]
    },
    {
      "cell_type": "code",
      "metadata": {
        "colab": {
          "base_uri": "https://localhost:8080/"
        },
        "id": "a8cfUABc0uGI",
        "outputId": "053d1b5f-3f7d-4e26-bcb8-f8182424d888"
      },
      "source": [
        "my_model.evaluate(x={\"first\": first_X_test, \"second\": second_X_test, \"third\": third_X_test, \"fourth\": fourth_X_test }, y=out_Y_test)\n"
      ],
      "execution_count": 297,
      "outputs": [
        {
          "output_type": "stream",
          "name": "stdout",
          "text": [
            "1250/1250 [==============================] - 4s 3ms/step - loss: 0.4501 - accuracy: 0.7699\n"
          ]
        },
        {
          "output_type": "execute_result",
          "data": {
            "text/plain": [
              "[0.45010289549827576, 0.7699249982833862]"
            ]
          },
          "metadata": {},
          "execution_count": 297
        }
      ]
    }
  ]
}